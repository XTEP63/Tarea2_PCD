{
 "cells": [
  {
   "cell_type": "markdown",
   "id": "a38e3c27",
   "metadata": {},
   "source": [
    "# MLOps y la importancia del despliegue a producción\n",
    "**Archivo:** [Databricks — MLOps (Glossary)](https://www.databricks.com/glossary/mlops)  \n",
    "**Fecha de consulta:** 2025-08-28"
   ]
  },
  {
   "cell_type": "markdown",
   "id": "13d5c5da",
   "metadata": {},
   "source": [
    "## ¿Qué es MLOps?\n",
    "MLOps (*Machine Learning Operations*) es un conjunto de prácticas de ingeniería orientadas a **llevar modelos de ML a producción**. Implica colaboración entre ciencia de datos, ingeniería/DevOps e IT, e integra **CI/CD**, validación y monitoreo de modelos.\n"
   ]
  },
  {
   "cell_type": "markdown",
   "id": "f219dd72",
   "metadata": {},
   "source": [
    "## ¿Por qué es difícil llevar a produccion ML?\n",
    "El ciclo de vida de ML abarca múltiples componentes y *hand‑offs* entre equipos: **ingesta y preparación de datos, entrenamiento, ajuste, despliegue, monitoreo, explicabilidad** y más. Sin procesos operativos claros, coordinar todo eso en producción se vuelve un caos.\n"
   ]
  },
  {
   "cell_type": "markdown",
   "id": "2cd45cb5",
   "metadata": {},
   "source": [
    "## Beneficios claves de MLOps\n",
    "- **Eficiencia:** acelera desarrollo, despliegue y entregas continuas.  \n",
    "- **Escalabilidad:** permite gestionar y monitorear miles de modelos de forma consistente (versiones, artefactos, permisos).  \n",
    "- **Reducción de riesgo:** mejora la reproducibilidad y la gobernanza, facilita auditorías/regulación y respuesta a drift.\n"
   ]
  },
  {
   "cell_type": "markdown",
   "id": "07693ddc",
   "metadata": {},
   "source": [
    "## Componentes del ciclo de vida con impacto en producción\n",
    "- **EDA y preparación/feature engineering:** datasets **reproducibles** y compartibles (idealmente con *feature store*).  \n",
    "- **Entrenamiento y *tuning*:** librerías abiertas y/o AutoML; resultados trazables.  \n",
    "- **Revisión y gobernanza:** **versionado de modelos**, gestión de artefactos y transiciones de estadio (por ejemplo: *Staging* → *Production*).  \n",
    "- **Inferencia y *serving*:** SLAs de latencia y *refresh*; automatizar pre‑producción con CI/CD.  \n",
    "- **Despliegue y monitoreo:** permisos, infraestructura y **endpoints**; alertas sobre performance y datos.  \n",
    "- **Re‑entrenamiento automático:** reglas para activar acciones correctivas ante **drift**.\n"
   ]
  },
  {
   "cell_type": "markdown",
   "id": "4aec22d1",
   "metadata": {},
   "source": [
    "## Buenas prácticas enfocadas al despliegue\n",
    "- Mantén **pipelines reproducibles** (código, datos, parámetros).  \n",
    "- **Comparte y reutiliza** *features*; evita duplicidad mediante un **feature store**.  \n",
    "- **Registra y versiona** modelos y artefactos; controla su ciclo (*Registry*).  \n",
    "- Automatiza pruebas y **CI/CD** para pre‑producción/despliegue.  \n",
    "- Implementa **monitoreo** post‑despliegue (calidad de datos y métricas del modelo) y **políticas** de gobernanza.\n"
   ]
  },
  {
   "cell_type": "markdown",
   "id": "88eb8a61",
   "metadata": {},
   "source": [
    "## MLOps vs. DevOps\n",
    "MLOps **toma principios** de DevOps (iteración continua, automatización, calidad) y los aplica a proyectos de ML, con el añadido de **datos, experimentación y *drift***. El objetivo en ambos casos es **mayor calidad** y **mayor velocidad de entrega** a producción.\n"
   ]
  },
  {
   "cell_type": "markdown",
   "id": "64defb69",
   "metadata": {},
   "source": [
    "## Nota sobre LLMOps\n",
    "Cuando se trabaja con **LLMs**, cambian las necesidades de cómputo (GPU), los **métodos de *fine‑tuning*** y algunas **métricas de evaluación**. La filosofía operativa es similar, pero hay énfasis en costos de inferencia, *distillation*, y en bucles de **retroalimentación humana**.\n"
   ]
  },
  {
   "cell_type": "markdown",
   "id": "7b1afa23",
   "metadata": {},
   "source": [
    "## Referencias\n",
    "- Databricks. **MLOps (Glossary)**. Disponible en: https://www.databricks.com/glossary/mlops\n"
   ]
  }
 ],
 "metadata": {
  "language_info": {
   "name": "python"
  }
 },
 "nbformat": 4,
 "nbformat_minor": 5
}
